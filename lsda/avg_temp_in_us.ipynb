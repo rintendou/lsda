{
 "cells": [
  {
   "cell_type": "code",
   "execution_count": null,
   "id": "abef858a",
   "metadata": {},
   "outputs": [],
   "source": [
    "# # Install a pip package in the current Jupyter kernel\n",
    "# import sys\n",
    "# !{sys.executable} -m pip install plotly\n",
    "# !{sys.executable} -m pip install pandas\n",
    "# !{sys.executable} -m pip install numpy\n",
    "# !{sys.executable} -m pip install --upgrade nbformat"
   ]
  },
  {
   "cell_type": "code",
   "execution_count": null,
   "id": "75d752b2",
   "metadata": {},
   "outputs": [],
   "source": [
    "# Importing libraries\n",
    "import plotly.express as px\n",
    "import plotly.graph_objects as go\n",
    "import pandas as pd\n",
    "import numpy as np"
   ]
  },
  {
   "cell_type": "code",
   "execution_count": null,
   "id": "689fd0bf",
   "metadata": {},
   "outputs": [],
   "source": [
    "# Display all df w/o truncation\n",
    "pd.set_option('display.max_columns', None)"
   ]
  },
  {
   "cell_type": "code",
   "execution_count": null,
   "id": "a26b2ae7",
   "metadata": {},
   "outputs": [],
   "source": [
    "# Reading csv & converting into a dataframe\n",
    "df = pd.read_csv(\"data/GlobalWeatherRepository.csv\")\n",
    "us_df = df[(df['country'] == \"United States of America\")]"
   ]
  },
  {
   "cell_type": "code",
   "execution_count": null,
   "metadata": {},
   "outputs": [],
   "source": [
    "# Average temperature in the US in Celcius\n",
    "temp_fig = px.line(us_df, x='last_updated', y='temperature_fahrenheit',\n",
    "                     title=\"Recent Temperature Trends in the United States of America\", markers=True)\n",
    "temp_fig.update_xaxes(title=\"Last Updated (Date)\")\n",
    "temp_fig.update_yaxes(title=\"Temperature (°F)\")\n",
    "\n",
    "temp_fig.update_traces(\n",
    "    line=dict(width=4, color='Red'),  # Adjust line width\n",
    "    # Adjust marker size and outlineß\n",
    "    marker=dict(size=12, line=dict(width=1, color='DarkSlateGrey')),\n",
    ")\n",
    "\n",
    "temp_fig.show()"
   ]
  }
 ],
 "metadata": {
  "kernelspec": {
   "display_name": "Python 3 (ipykernel)",
   "language": "python",
   "name": "python3"
  },
  "language_info": {
   "codemirror_mode": {
    "name": "ipython",
    "version": 3
   },
   "file_extension": ".py",
   "mimetype": "text/x-python",
   "name": "python",
   "nbconvert_exporter": "python",
   "pygments_lexer": "ipython3",
   "version": "3.9.13"
  }
 },
 "nbformat": 4,
 "nbformat_minor": 5
}
